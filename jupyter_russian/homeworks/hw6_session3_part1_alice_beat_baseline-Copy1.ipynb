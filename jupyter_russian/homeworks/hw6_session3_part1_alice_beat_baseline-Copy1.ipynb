{
 "cells": [
  {
   "cell_type": "markdown",
   "metadata": {},
   "source": [
    "<center>\n",
    "<img src=\"../../img/ods_stickers.jpg\">\n",
    "## Open Machine Learning Course\n",
    "<center>\n",
    "Author: Yury Kashnitsky, Data Scientist at Mail.Ru Group\n",
    "\n",
    "This material is subject to the terms and conditions of the license [Creative Commons CC BY-NC-SA 4.0](https://creativecommons.org/licenses/by-nc-sa/4.0/). Free use is permitted for any non-comercial purpose with an obligatory indication of the names of the authors and of the source."
   ]
  },
  {
   "cell_type": "markdown",
   "metadata": {},
   "source": [
    "## <center>Assignment #6. Part 1\n",
    "### <center> Beating benchmarks in \"Catch Me If You Can: Intruder Detection through Webpage Session Tracking\"\n",
    "    \n",
    "[Competition](https://www.kaggle.com/c/catch-me-if-you-can-intruder-detection-through-webpage-session-tracking2). The task is to beat \"Assignment 6 baseline\"."
   ]
  },
  {
   "cell_type": "code",
   "execution_count": null,
   "metadata": {
    "collapsed": true
   },
   "outputs": [],
   "source": [
    "import seaborn as sns\n",
    "import os\n",
    "import numpy as np\n",
    "import pandas as pd\n",
    "from sklearn.feature_extraction.text import TfidfVectorizer\n",
    "from scipy.sparse import csr_matrix, hstack\n",
    "from sklearn.preprocessing import StandardScaler, OneHotEncoder\n",
    "from sklearn.model_selection import StratifiedKFold\n",
    "from sklearn.metrics import roc_auc_score\n",
    "from sklearn.linear_model import LogisticRegression, LogisticRegressionCV\n",
    "\n",
    "import warnings\n",
    "warnings.filterwarnings('ignore')\n",
    "%matplotlib inline\n",
    "from matplotlib import pyplot as plt"
   ]
  },
  {
   "cell_type": "markdown",
   "metadata": {},
   "source": [
    "Reading original data"
   ]
  },
  {
   "cell_type": "code",
   "execution_count": null,
   "metadata": {
    "collapsed": true
   },
   "outputs": [],
   "source": [
    "PATH_TO_DATA = ('../../data')\n",
    "train_df = pd.read_csv(os.path.join(PATH_TO_DATA, 'train_sessions.csv'), index_col='session_id')\n",
    "test_df = pd.read_csv(os.path.join(PATH_TO_DATA, 'test_sessions.csv'), index_col='session_id')"
   ]
  },
  {
   "cell_type": "code",
   "execution_count": null,
   "metadata": {
    "collapsed": true
   },
   "outputs": [],
   "source": [
    "def write_to_submission_file(predicted_labels, out_file,\n",
    "                             target='target', index_label=\"session_id\"):\n",
    "    predicted_df = pd.DataFrame(predicted_labels,\n",
    "                                index = np.arange(1, predicted_labels.shape[0] + 1),\n",
    "                                columns=[target])\n",
    "    predicted_df.to_csv(out_file, index_label=index_label)\n"
   ]
  },
  {
   "cell_type": "code",
   "execution_count": null,
   "metadata": {},
   "outputs": [],
   "source": [
    "train_df.head()"
   ]
  },
  {
   "cell_type": "markdown",
   "metadata": {},
   "source": [
    "Separate target feature "
   ]
  },
  {
   "cell_type": "code",
   "execution_count": null,
   "metadata": {},
   "outputs": [],
   "source": [
    "y_train = train_df['target']\n",
    "train_df.drop('target',axis=1)"
   ]
  },
  {
   "cell_type": "markdown",
   "metadata": {},
   "source": [
    "Build Tf-Idf features based on sites. You can use `ngram_range`=(1, 3) and `max_features`=100000 or more"
   ]
  },
  {
   "cell_type": "code",
   "execution_count": null,
   "metadata": {},
   "outputs": [],
   "source": [
    "import pickle\n",
    "\n",
    "sites = ['site%s' % i for i in range(1, 11)]\n",
    "train_df[sites] = train_df[sites].fillna(0).astype('int')\n",
    "test_df[sites] = test_df[sites].fillna(0).astype('int')\n",
    "\n",
    "# Load websites dictionary\n",
    "with open(os.path.join(PATH_TO_DATA, 'site_dic.pkl'), 'rb') as input_file:\n",
    "    site_dict = pickle.load(input_file)\n",
    "\n",
    "# Create dataframe for the dictionary\n",
    "sites_dict = pd.DataFrame(list(site_dict.keys()), index=list(site_dict.values()), columns=['site'])\n",
    "sites_dict.head()"
   ]
  },
  {
   "cell_type": "code",
   "execution_count": null,
   "metadata": {
    "collapsed": true
   },
   "outputs": [],
   "source": [
    "def vec(train, test):\n",
    "    def trans(x):\n",
    "        return ' '.join(x)\n",
    "    \n",
    "    train_sites = train.apply(lambda x: x.map(sites_dict['site'])).fillna('')\n",
    "    train_sites = train_sites.apply(lambda x: trans(x), axis=1)\n",
    "    test_sites = test.apply(lambda x: x.map(sites_dict['site'])).fillna('')\n",
    "    test_sites = test_sites.apply(lambda x: trans(x), axis=1)\n",
    "    \n",
    "    vectorizer = TfidfVectorizer(ngram_range=(1, 3), max_features=100000)\n",
    "    vectorizer.fit(pd.concat([train_sites, test_sites]))\n",
    "    \n",
    "    return vectorizer.transform(train_sites), vectorizer.transform(test_sites)"
   ]
  },
  {
   "cell_type": "code",
   "execution_count": null,
   "metadata": {
    "collapsed": true
   },
   "outputs": [],
   "source": [
    "X_train_sites, X_test_sites = vec(train_df[sites], test_df[sites])"
   ]
  },
  {
   "cell_type": "markdown",
   "metadata": {},
   "source": [
    "Add features based on the session start time: hour, whether it's morning, day or night and so on."
   ]
  },
  {
   "cell_type": "markdown",
   "metadata": {},
   "source": [
    "Scale this features and combine then with Tf-Idf based on sites (you'll need `scipy.sparse.hstack`)"
   ]
  },
  {
   "cell_type": "code",
   "execution_count": 78,
   "metadata": {
    "collapsed": true
   },
   "outputs": [],
   "source": [
    "times = ['time%s' % i for i in range(1, 11)]\n",
    "\n",
    "#train_df[times] = train_df[times].fillna(pd.to_datetime('2000-01-01 00:00:00'))\n",
    "#test_df[times] = test_df[times].fillna(pd.to_datetime('2000-01-01 00:00:00'))\n",
    "\n",
    "def full_times(train_times, test_times):\n",
    "    \n",
    "    train_times_ = pd.DataFrame(np.zeros((train_times.shape[0],3), dtype=bool))\n",
    "    test_times_ = pd.DataFrame(train_times_)\n",
    "\n",
    "    for n in times:\n",
    "        #train\n",
    "        data = np.array(pd.DatetimeIndex(train_times[n]).hour)\n",
    "        train_times_[0] = np.where((train_times_[0])|(data>=0)&(data<8),1,0)\n",
    "        train_times_[1] = np.where((train_times_[1])|(data>=8)&(data<16),1,0)\n",
    "        train_times_[2] = np.where((train_times_[2])|(data>=16)&(data<24),1,0)\n",
    "        #test\n",
    "        data = np.array(pd.DatetimeIndex(test_times[n]).hour)\n",
    "        test_times_[0] = np.where((test_times_[0])|(data>=0)&(data<8),1,0)\n",
    "        test_times_[1] = np.where((test_times_[1])|(data>=8)&(data<16),1,0)\n",
    "        test_times_[2] = np.where((test_times_[2])|(data>=16)&(data<24),1,0)\n",
    "        \n",
    "    return train_times_, test_times_ "
   ]
  },
  {
   "cell_type": "code",
   "execution_count": null,
   "metadata": {},
   "outputs": [],
   "source": [
    "train_times = train_df[times][0:10]\n",
    "\n",
    "train_times_ = pd.DataFrame(np.zeros((train_times.shape[0],3), dtype=bool))\n",
    "\n",
    "for n in times:\n",
    "    #train\n",
    "    data = np.array(pd.DatetimeIndex(train_times[n]).hour)\n",
    "    train_times_[0] = np.where((train_times_[0])|(data>=0)&(data<8),1,0)\n",
    "    train_times_[1] = np.where((train_times_[1])|(data>=8)&(data<16),1,0)\n",
    "    train_times_[2] = np.where((train_times_[2])|(data>=16)&(data<24),1,0)\n",
    "\n",
    "train_times_\n",
    "\n",
    "#X_train_times, X_test_times = full_times(train_df[times][0:3], test_df[times][0:3]) "
   ]
  },
  {
   "cell_type": "code",
   "execution_count": 79,
   "metadata": {
    "collapsed": true
   },
   "outputs": [],
   "source": [
    "X_train = csr_matrix(hstack([X_train_sites, X_train_times]))\n",
    "X_test = csr_matrix(hstack([X_test_sites, X_test_times]))"
   ]
  },
  {
   "cell_type": "markdown",
   "metadata": {},
   "source": [
    "Perform cross-validation with logistic regression."
   ]
  },
  {
   "cell_type": "code",
   "execution_count": 80,
   "metadata": {},
   "outputs": [
    {
     "name": "stdout",
     "output_type": "stream",
     "text": [
      "0.985201955153\n"
     ]
    }
   ],
   "source": [
    "from sklearn.model_selection import cross_val_score\n",
    "\n",
    "lr = LogisticRegression(C=0.5, random_state=17, n_jobs=-1, class_weight='balanced')\n",
    "\n",
    "skf = StratifiedKFold(n_splits=5, shuffle=True, random_state=17)\n",
    "\n",
    "cv_aucs = cross_val_score(lr, X_train, y_train, scoring=\"roc_auc\", cv=skf)\n",
    "\n",
    "print(np.mean(cv_aucs))"
   ]
  },
  {
   "cell_type": "markdown",
   "metadata": {},
   "source": [
    "Make prediction for the test set and form a submission file."
   ]
  },
  {
   "cell_type": "code",
   "execution_count": 81,
   "metadata": {},
   "outputs": [],
   "source": [
    "lr.fit(X_train, y_train)\n",
    "test_pred = lr.predict_proba(X_test)[:, 1]"
   ]
  },
  {
   "cell_type": "code",
   "execution_count": 82,
   "metadata": {
    "collapsed": true
   },
   "outputs": [],
   "source": [
    "write_to_submission_file(test_pred, os.path.join(PATH_TO_DATA, \"assignment6_alice_submission.csv\"))"
   ]
  },
  {
   "cell_type": "code",
   "execution_count": null,
   "metadata": {
    "collapsed": true
   },
   "outputs": [],
   "source": []
  }
 ],
 "metadata": {
  "kernelspec": {
   "display_name": "Python 3",
   "language": "python",
   "name": "python3"
  },
  "language_info": {
   "codemirror_mode": {
    "name": "ipython",
    "version": 3
   },
   "file_extension": ".py",
   "mimetype": "text/x-python",
   "name": "python",
   "nbconvert_exporter": "python",
   "pygments_lexer": "ipython3",
   "version": "3.6.3"
  }
 },
 "nbformat": 4,
 "nbformat_minor": 2
}
